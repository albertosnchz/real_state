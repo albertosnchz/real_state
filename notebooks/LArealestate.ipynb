{
 "cells": [
  {
   "cell_type": "code",
   "execution_count": 1,
   "metadata": {
    "ExecuteTime": {
     "end_time": "2020-11-24T14:59:39.662823Z",
     "start_time": "2020-11-24T14:59:39.244642Z"
    }
   },
   "outputs": [],
   "source": [
    "import pandas as pd\n",
    "import numpy as np"
   ]
  },
  {
   "cell_type": "code",
   "execution_count": 4,
   "metadata": {
    "ExecuteTime": {
     "end_time": "2020-11-24T15:00:09.543113Z",
     "start_time": "2020-11-24T15:00:09.496462Z"
    }
   },
   "outputs": [
    {
     "data": {
      "text/html": [
       "<div>\n",
       "<style scoped>\n",
       "    .dataframe tbody tr th:only-of-type {\n",
       "        vertical-align: middle;\n",
       "    }\n",
       "\n",
       "    .dataframe tbody tr th {\n",
       "        vertical-align: top;\n",
       "    }\n",
       "\n",
       "    .dataframe thead th {\n",
       "        text-align: right;\n",
       "    }\n",
       "</style>\n",
       "<table border=\"1\" class=\"dataframe\">\n",
       "  <thead>\n",
       "    <tr style=\"text-align: right;\">\n",
       "      <th></th>\n",
       "      <th>address</th>\n",
       "      <th>beds</th>\n",
       "      <th>baths</th>\n",
       "      <th>sqft</th>\n",
       "      <th>date</th>\n",
       "      <th>price</th>\n",
       "      <th>city</th>\n",
       "      <th>type</th>\n",
       "    </tr>\n",
       "  </thead>\n",
       "  <tbody>\n",
       "    <tr>\n",
       "      <th>0</th>\n",
       "      <td>1005 Benedict Canyon Dr</td>\n",
       "      <td>8.0</td>\n",
       "      <td>11.0</td>\n",
       "      <td>10379.0</td>\n",
       "      <td>03/08/2014Hilton &amp; HylandFeatured</td>\n",
       "      <td>18000000.0</td>\n",
       "      <td>Beverly Hills</td>\n",
       "      <td>sfh</td>\n",
       "    </tr>\n",
       "    <tr>\n",
       "      <th>1</th>\n",
       "      <td>10084 Westwanda Dr</td>\n",
       "      <td>2.0</td>\n",
       "      <td>3.0</td>\n",
       "      <td>2013.0</td>\n",
       "      <td>12/11/2013Coldwell Banker Residential Brokerag...</td>\n",
       "      <td>950000.0</td>\n",
       "      <td>Beverly Hills</td>\n",
       "      <td>sfh</td>\n",
       "    </tr>\n",
       "    <tr>\n",
       "      <th>2</th>\n",
       "      <td>1009 N Beverly Dr</td>\n",
       "      <td>4.0</td>\n",
       "      <td>5.0</td>\n",
       "      <td>3476.0</td>\n",
       "      <td>03/18/2014Hilton &amp; Hyland</td>\n",
       "      <td>9750000.0</td>\n",
       "      <td>Beverly Hills</td>\n",
       "      <td>sfh</td>\n",
       "    </tr>\n",
       "    <tr>\n",
       "      <th>3</th>\n",
       "      <td>1010 N Rexford Dr</td>\n",
       "      <td>5.0</td>\n",
       "      <td>6.5</td>\n",
       "      <td>7718.0</td>\n",
       "      <td>03/01/2014John Aaroe Group</td>\n",
       "      <td>16500000.0</td>\n",
       "      <td>Beverly Hills</td>\n",
       "      <td>sfh</td>\n",
       "    </tr>\n",
       "    <tr>\n",
       "      <th>4</th>\n",
       "      <td>10101 Angelo View Dr</td>\n",
       "      <td>3.0</td>\n",
       "      <td>1.5</td>\n",
       "      <td>4000.0</td>\n",
       "      <td>03/24/2014Rodeo Realty Inc.</td>\n",
       "      <td>24250000.0</td>\n",
       "      <td>Beverly Hills</td>\n",
       "      <td>sfh</td>\n",
       "    </tr>\n",
       "    <tr>\n",
       "      <th>...</th>\n",
       "      <td>...</td>\n",
       "      <td>...</td>\n",
       "      <td>...</td>\n",
       "      <td>...</td>\n",
       "      <td>...</td>\n",
       "      <td>...</td>\n",
       "      <td>...</td>\n",
       "      <td>...</td>\n",
       "    </tr>\n",
       "    <tr>\n",
       "      <th>250</th>\n",
       "      <td>3640 Cardiff Ave Apt 201</td>\n",
       "      <td>1.0</td>\n",
       "      <td>1.0</td>\n",
       "      <td>676.0</td>\n",
       "      <td>03/25/2014The Agency</td>\n",
       "      <td>299000.0</td>\n",
       "      <td>Palms</td>\n",
       "      <td>condo</td>\n",
       "    </tr>\n",
       "    <tr>\n",
       "      <th>251</th>\n",
       "      <td>3701 Glendon Ave Apt 9</td>\n",
       "      <td>2.0</td>\n",
       "      <td>3.0</td>\n",
       "      <td>1419.0</td>\n",
       "      <td>03/24/2014Coldwell Banker Residential Brokerag...</td>\n",
       "      <td>524000.0</td>\n",
       "      <td>Palms</td>\n",
       "      <td>condo</td>\n",
       "    </tr>\n",
       "    <tr>\n",
       "      <th>252</th>\n",
       "      <td>9313 National Blvd Apt 101</td>\n",
       "      <td>1.0</td>\n",
       "      <td>1.0</td>\n",
       "      <td>692.0</td>\n",
       "      <td>03/24/2014Rodeo Realty Inc.</td>\n",
       "      <td>349000.0</td>\n",
       "      <td>Palms</td>\n",
       "      <td>condo</td>\n",
       "    </tr>\n",
       "    <tr>\n",
       "      <th>253</th>\n",
       "      <td>9313 National Blvd Apt 203</td>\n",
       "      <td>2.0</td>\n",
       "      <td>2.0</td>\n",
       "      <td>824.0</td>\n",
       "      <td>03/18/2014Keller WilliamsFeatured</td>\n",
       "      <td>399000.0</td>\n",
       "      <td>Palms</td>\n",
       "      <td>condo</td>\n",
       "    </tr>\n",
       "    <tr>\n",
       "      <th>254</th>\n",
       "      <td>3300 S Sepulveda Blvd Apt G9</td>\n",
       "      <td>2.0</td>\n",
       "      <td>2.0</td>\n",
       "      <td>1224.0</td>\n",
       "      <td>03/24/2014Keller Williams Realty Santa MonicaF...</td>\n",
       "      <td>399000.0</td>\n",
       "      <td>Palms</td>\n",
       "      <td>condo</td>\n",
       "    </tr>\n",
       "  </tbody>\n",
       "</table>\n",
       "<p>255 rows × 8 columns</p>\n",
       "</div>"
      ],
      "text/plain": [
       "                           address  beds  baths     sqft  \\\n",
       "0          1005 Benedict Canyon Dr   8.0   11.0  10379.0   \n",
       "1               10084 Westwanda Dr   2.0    3.0   2013.0   \n",
       "2                1009 N Beverly Dr   4.0    5.0   3476.0   \n",
       "3                1010 N Rexford Dr   5.0    6.5   7718.0   \n",
       "4             10101 Angelo View Dr   3.0    1.5   4000.0   \n",
       "..                             ...   ...    ...      ...   \n",
       "250       3640 Cardiff Ave Apt 201   1.0    1.0    676.0   \n",
       "251         3701 Glendon Ave Apt 9   2.0    3.0   1419.0   \n",
       "252     9313 National Blvd Apt 101   1.0    1.0    692.0   \n",
       "253     9313 National Blvd Apt 203   2.0    2.0    824.0   \n",
       "254   3300 S Sepulveda Blvd Apt G9   2.0    2.0   1224.0   \n",
       "\n",
       "                                                  date       price  \\\n",
       "0                   03/08/2014Hilton & HylandFeatured   18000000.0   \n",
       "1    12/11/2013Coldwell Banker Residential Brokerag...    950000.0   \n",
       "2                           03/18/2014Hilton & Hyland    9750000.0   \n",
       "3                          03/01/2014John Aaroe Group   16500000.0   \n",
       "4                         03/24/2014Rodeo Realty Inc.   24250000.0   \n",
       "..                                                 ...         ...   \n",
       "250                              03/25/2014The Agency     299000.0   \n",
       "251  03/24/2014Coldwell Banker Residential Brokerag...    524000.0   \n",
       "252                       03/24/2014Rodeo Realty Inc.     349000.0   \n",
       "253                 03/18/2014Keller WilliamsFeatured     399000.0   \n",
       "254  03/24/2014Keller Williams Realty Santa MonicaF...    399000.0   \n",
       "\n",
       "              city   type  \n",
       "0    Beverly Hills    sfh  \n",
       "1    Beverly Hills    sfh  \n",
       "2    Beverly Hills    sfh  \n",
       "3    Beverly Hills    sfh  \n",
       "4    Beverly Hills    sfh  \n",
       "..             ...    ...  \n",
       "250          Palms  condo  \n",
       "251          Palms  condo  \n",
       "252          Palms  condo  \n",
       "253          Palms  condo  \n",
       "254          Palms  condo  \n",
       "\n",
       "[255 rows x 8 columns]"
      ]
     },
     "execution_count": 4,
     "metadata": {},
     "output_type": "execute_result"
    }
   ],
   "source": [
    "df = pd.read_csv('LArealestate.csv')\n",
    "df"
   ]
  },
  {
   "cell_type": "code",
   "execution_count": 5,
   "metadata": {
    "ExecuteTime": {
     "end_time": "2020-11-24T15:00:29.652823Z",
     "start_time": "2020-11-24T15:00:29.613084Z"
    }
   },
   "outputs": [
    {
     "name": "stdout",
     "output_type": "stream",
     "text": [
      "<class 'pandas.core.frame.DataFrame'>\n",
      "RangeIndex: 255 entries, 0 to 254\n",
      "Data columns (total 8 columns):\n",
      " #   Column   Non-Null Count  Dtype  \n",
      "---  ------   --------------  -----  \n",
      " 0   address  255 non-null    object \n",
      " 1   beds     254 non-null    float64\n",
      " 2   baths    254 non-null    float64\n",
      " 3   sqft     254 non-null    float64\n",
      " 4   date     255 non-null    object \n",
      " 5   price    255 non-null    float64\n",
      " 6   city     255 non-null    object \n",
      " 7   type     255 non-null    object \n",
      "dtypes: float64(4), object(4)\n",
      "memory usage: 16.1+ KB\n"
     ]
    }
   ],
   "source": [
    "df.info()"
   ]
  }
 ],
 "metadata": {
  "kernelspec": {
   "display_name": "Python 3",
   "language": "python",
   "name": "python3"
  },
  "language_info": {
   "codemirror_mode": {
    "name": "ipython",
    "version": 3
   },
   "file_extension": ".py",
   "mimetype": "text/x-python",
   "name": "python",
   "nbconvert_exporter": "python",
   "pygments_lexer": "ipython3",
   "version": "3.8.5"
  },
  "varInspector": {
   "cols": {
    "lenName": 16,
    "lenType": 16,
    "lenVar": 40
   },
   "kernels_config": {
    "python": {
     "delete_cmd_postfix": "",
     "delete_cmd_prefix": "del ",
     "library": "var_list.py",
     "varRefreshCmd": "print(var_dic_list())"
    },
    "r": {
     "delete_cmd_postfix": ") ",
     "delete_cmd_prefix": "rm(",
     "library": "var_list.r",
     "varRefreshCmd": "cat(var_dic_list()) "
    }
   },
   "types_to_exclude": [
    "module",
    "function",
    "builtin_function_or_method",
    "instance",
    "_Feature"
   ],
   "window_display": false
  }
 },
 "nbformat": 4,
 "nbformat_minor": 4
}
